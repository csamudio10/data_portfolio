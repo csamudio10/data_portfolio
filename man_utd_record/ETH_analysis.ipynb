{
 "cells": [
  {
   "cell_type": "markdown",
   "metadata": {},
   "source": [
    "# Erik ten Hag Analysis"
   ]
  },
  {
   "cell_type": "markdown",
   "metadata": {},
   "source": [
    "## Introduction\n",
    "\n",
    "On Thursday 21 April 2022, Erik ten Hag, a Dutch manager who had a very successful run in many clubs in the Eredivisie (Dutch football league), was appointed as the new manager for Manchester United. As of august 2024, ten Hag has managed 2 Manchester United 2 seasons. In his first season, ten Hag led Man Utd to a 3rd place finish with 75 points qualifying them to UEFA Champions League competition, had a quarter final finish in the UEFA Europa League, got to the FA cup final where they lost a 1-2 defeat to Manchester City and won the Carabao Cup against Newcastle. This first season, for most fans and people outside the club was considered a success, ending the 6 year trophy drought that haunted them while also qualifying for the Champions League (Europe's most prestigious competition).\n",
    "\n",
    "However, in his 2nd season, thing were vastly more controversial. He started his campaign with a horrible Champions League display, ending last place in the group stage, finishing 8th in the premier league, crashing out the Carabao Cup in the 4th round, but won the FA cup against rivals Manchester City 2-1.\n",
    "\n",
    "\n",
    "Because of this tumultuous season, ten Hag and Manchester United have mounted huge amounts of pressure with most analysts and TV pundits predicting he would get fired before or after the season ended. \n",
    "\n",
    "\n",
    "This project looks to analyze ten Hag's performance over his tenure and answer the question: Is he not the right manager for Manchester United, or is the media and public unfairly judging him and not giving him enough time to nourish his project? To answer this question, this analysis is divided in 4 main sections:\n",
    "- Exploratory Data Analysis and cleaning.\n",
    "- Deep dive into ten Hag and his statistics across his 2 seasons.\n",
    "- Comparing ten Hag to previous Manchester United managers.\n",
    "- Comparing ten Hag to the first 2 seasons of Jurgen Klopp at Liverpool, Josep Guardiola at Manchester City and Mikel Arteta at Arsenal."
   ]
  },
  {
   "cell_type": "markdown",
   "metadata": {},
   "source": [
    "## Assumptions for the analysis\n",
    "\n",
    "- Michael Carrick and Ryan Giggs will not be taken into account since they had less than 5 games played\n",
    "- For the goals in favour/against, the penalties and aggregate scores will not be taken into account. Only the goals scored in regular time will be taken into account\n",
    "- No draw is allowed in knockout stages for cup games. The winner will be declared after the penalty shootout if required\n",
    "- The managers in consideration go from Sir Alex Ferguson to present time"
   ]
  },
  {
   "cell_type": "code",
   "execution_count": 1,
   "metadata": {},
   "outputs": [],
   "source": [
    "import numpy as np\n",
    "import pandas as pd\n",
    "from get_data import get_data\n",
    "import matplotlib.pyplot as plt\n",
    "import seaborn as sns\n",
    "sns.set_style('darkgrid')"
   ]
  },
  {
   "cell_type": "markdown",
   "metadata": {},
   "source": [
    "## Data import and EDA"
   ]
  },
  {
   "cell_type": "code",
   "execution_count": 2,
   "metadata": {},
   "outputs": [
    {
     "ename": "HTTPError",
     "evalue": "403 Client Error: Forbidden for url: https://www.11v11.com/teams/manchester-united/tab/matches/season/1987",
     "output_type": "error",
     "traceback": [
      "\u001b[1;31m---------------------------------------------------------------------------\u001b[0m",
      "\u001b[1;31mHTTPError\u001b[0m                                 Traceback (most recent call last)",
      "Cell \u001b[1;32mIn[2], line 3\u001b[0m\n\u001b[0;32m      1\u001b[0m seasons \u001b[38;5;241m=\u001b[39m [i \u001b[38;5;28;01mfor\u001b[39;00m i \u001b[38;5;129;01min\u001b[39;00m \u001b[38;5;28mrange\u001b[39m(\u001b[38;5;241m1987\u001b[39m,\u001b[38;5;241m2025\u001b[39m)]\n\u001b[1;32m----> 3\u001b[0m raw_data \u001b[38;5;241m=\u001b[39m \u001b[43mget_data\u001b[49m\u001b[43m(\u001b[49m\u001b[43mseasons\u001b[49m\u001b[43m,\u001b[49m\u001b[38;5;124;43m\"\u001b[39;49m\u001b[38;5;124;43mmanchester-united\u001b[39;49m\u001b[38;5;124;43m\"\u001b[39;49m\u001b[43m)\u001b[49m\n",
      "File \u001b[1;32mc:\\Users\\Camilo\\Documents\\GitHub\\data_portfolio\\ETH_analysis\\get_data.py:15\u001b[0m, in \u001b[0;36mget_data\u001b[1;34m(seasons, team)\u001b[0m\n\u001b[0;32m     13\u001b[0m \u001b[38;5;28;01mdef\u001b[39;00m \u001b[38;5;21mget_data\u001b[39m(seasons: \u001b[38;5;28mlist\u001b[39m, team: \u001b[38;5;28mstr\u001b[39m):\n\u001b[1;32m---> 15\u001b[0m     df \u001b[38;5;241m=\u001b[39m \u001b[43mmerge_seasons\u001b[49m\u001b[43m(\u001b[49m\u001b[43mseasons\u001b[49m\u001b[43m,\u001b[49m\u001b[43m \u001b[49m\u001b[43mteam\u001b[49m\u001b[43m)\u001b[49m\n\u001b[0;32m     16\u001b[0m     manager_df \u001b[38;5;241m=\u001b[39m process_manager_history()\n\u001b[0;32m     17\u001b[0m     df[\u001b[38;5;124m'\u001b[39m\u001b[38;5;124mmanager\u001b[39m\u001b[38;5;124m'\u001b[39m] \u001b[38;5;241m=\u001b[39m df[\u001b[38;5;124m'\u001b[39m\u001b[38;5;124mDate\u001b[39m\u001b[38;5;124m'\u001b[39m]\u001b[38;5;241m.\u001b[39mapply(manager_col,manager_df \u001b[38;5;241m=\u001b[39m manager_df)\n",
      "File \u001b[1;32mc:\\Users\\Camilo\\Documents\\GitHub\\data_portfolio\\ETH_analysis\\get_data.py:26\u001b[0m, in \u001b[0;36mmerge_seasons\u001b[1;34m(seasons, team)\u001b[0m\n\u001b[0;32m     24\u001b[0m data \u001b[38;5;241m=\u001b[39m pd\u001b[38;5;241m.\u001b[39mDataFrame(columns\u001b[38;5;241m=\u001b[39m[\u001b[38;5;124m'\u001b[39m\u001b[38;5;124mDate\u001b[39m\u001b[38;5;124m'\u001b[39m,\u001b[38;5;124m'\u001b[39m\u001b[38;5;124mMatch\u001b[39m\u001b[38;5;124m'\u001b[39m,\u001b[38;5;124m'\u001b[39m\u001b[38;5;124mResult\u001b[39m\u001b[38;5;124m'\u001b[39m,\u001b[38;5;124m'\u001b[39m\u001b[38;5;124mScore\u001b[39m\u001b[38;5;124m'\u001b[39m,\u001b[38;5;124m'\u001b[39m\u001b[38;5;124mCompetition\u001b[39m\u001b[38;5;124m'\u001b[39m])\n\u001b[0;32m     25\u001b[0m \u001b[38;5;28;01mfor\u001b[39;00m season \u001b[38;5;129;01min\u001b[39;00m seasons:\n\u001b[1;32m---> 26\u001b[0m     df \u001b[38;5;241m=\u001b[39m \u001b[43mget_season_results\u001b[49m\u001b[43m(\u001b[49m\u001b[43mseason\u001b[49m\u001b[43m,\u001b[49m\u001b[43m \u001b[49m\u001b[43mteam\u001b[49m\u001b[43m)\u001b[49m\n\u001b[0;32m     27\u001b[0m     data \u001b[38;5;241m=\u001b[39m pd\u001b[38;5;241m.\u001b[39mconcat([data, df])\n\u001b[0;32m     29\u001b[0m \u001b[38;5;28;01mreturn\u001b[39;00m data\n",
      "File \u001b[1;32mc:\\Users\\Camilo\\Documents\\GitHub\\data_portfolio\\ETH_analysis\\get_data.py:44\u001b[0m, in \u001b[0;36mget_season_results\u001b[1;34m(season, team)\u001b[0m\n\u001b[0;32m     42\u001b[0m \u001b[38;5;66;03m# Send a GET request to the webpage\u001b[39;00m\n\u001b[0;32m     43\u001b[0m response \u001b[38;5;241m=\u001b[39m requests\u001b[38;5;241m.\u001b[39mget(url, headers\u001b[38;5;241m=\u001b[39mheaders)\n\u001b[1;32m---> 44\u001b[0m \u001b[43mresponse\u001b[49m\u001b[38;5;241;43m.\u001b[39;49m\u001b[43mraise_for_status\u001b[49m\u001b[43m(\u001b[49m\u001b[43m)\u001b[49m  \u001b[38;5;66;03m# Check if the request was successful\u001b[39;00m\n\u001b[0;32m     47\u001b[0m \u001b[38;5;66;03m# Parse the webpage content\u001b[39;00m\n\u001b[0;32m     48\u001b[0m soup \u001b[38;5;241m=\u001b[39m BeautifulSoup(response\u001b[38;5;241m.\u001b[39mtext, \u001b[38;5;124m'\u001b[39m\u001b[38;5;124mhtml.parser\u001b[39m\u001b[38;5;124m'\u001b[39m)\n",
      "File \u001b[1;32mc:\\Users\\Camilo\\anaconda3\\lib\\site-packages\\requests\\models.py:1024\u001b[0m, in \u001b[0;36mResponse.raise_for_status\u001b[1;34m(self)\u001b[0m\n\u001b[0;32m   1019\u001b[0m     http_error_msg \u001b[38;5;241m=\u001b[39m (\n\u001b[0;32m   1020\u001b[0m         \u001b[38;5;124mf\u001b[39m\u001b[38;5;124m\"\u001b[39m\u001b[38;5;132;01m{\u001b[39;00m\u001b[38;5;28mself\u001b[39m\u001b[38;5;241m.\u001b[39mstatus_code\u001b[38;5;132;01m}\u001b[39;00m\u001b[38;5;124m Server Error: \u001b[39m\u001b[38;5;132;01m{\u001b[39;00mreason\u001b[38;5;132;01m}\u001b[39;00m\u001b[38;5;124m for url: \u001b[39m\u001b[38;5;132;01m{\u001b[39;00m\u001b[38;5;28mself\u001b[39m\u001b[38;5;241m.\u001b[39murl\u001b[38;5;132;01m}\u001b[39;00m\u001b[38;5;124m\"\u001b[39m\n\u001b[0;32m   1021\u001b[0m     )\n\u001b[0;32m   1023\u001b[0m \u001b[38;5;28;01mif\u001b[39;00m http_error_msg:\n\u001b[1;32m-> 1024\u001b[0m     \u001b[38;5;28;01mraise\u001b[39;00m HTTPError(http_error_msg, response\u001b[38;5;241m=\u001b[39m\u001b[38;5;28mself\u001b[39m)\n",
      "\u001b[1;31mHTTPError\u001b[0m: 403 Client Error: Forbidden for url: https://www.11v11.com/teams/manchester-united/tab/matches/season/1987"
     ]
    }
   ],
   "source": [
    "seasons = [i for i in range(1987,2025)]\n",
    "\n",
    "raw_data = get_data(seasons,\"manchester-united\")"
   ]
  },
  {
   "cell_type": "code",
   "execution_count": null,
   "metadata": {},
   "outputs": [],
   "source": [
    "raw_data.tail()"
   ]
  },
  {
   "cell_type": "code",
   "execution_count": null,
   "metadata": {},
   "outputs": [],
   "source": [
    "raw_data.info()"
   ]
  },
  {
   "cell_type": "code",
   "execution_count": null,
   "metadata": {},
   "outputs": [],
   "source": [
    "# checking for null values\n",
    "raw_data.isna().sum()"
   ]
  },
  {
   "cell_type": "code",
   "execution_count": null,
   "metadata": {},
   "outputs": [],
   "source": [
    "# checking the null values\n",
    "raw_data[raw_data.isna().any(axis=1)]"
   ]
  },
  {
   "cell_type": "code",
   "execution_count": null,
   "metadata": {},
   "outputs": [],
   "source": [
    "# The oldest manager for this analysis is Sir Alex Ferguson, and since he was appointed in 06 Nov, 1986; all dates prior to this will be eliminated\n",
    "data_no_null = raw_data.dropna()\n",
    "data_no_null.head() "
   ]
  },
  {
   "cell_type": "code",
   "execution_count": null,
   "metadata": {},
   "outputs": [],
   "source": [
    "data_no_null.isna().sum()"
   ]
  },
  {
   "cell_type": "code",
   "execution_count": null,
   "metadata": {},
   "outputs": [],
   "source": [
    "data_no_null['Result'].unique()"
   ]
  },
  {
   "cell_type": "code",
   "execution_count": null,
   "metadata": {},
   "outputs": [],
   "source": [
    "data_no_null['Score'].unique()"
   ]
  },
  {
   "cell_type": "code",
   "execution_count": null,
   "metadata": {},
   "outputs": [],
   "source": [
    "data_no_null['Competition'].unique()"
   ]
  },
  {
   "cell_type": "code",
   "execution_count": null,
   "metadata": {},
   "outputs": [],
   "source": [
    "data_no_null['manager'].unique()"
   ]
  },
  {
   "cell_type": "code",
   "execution_count": null,
   "metadata": {},
   "outputs": [],
   "source": [
    "data_no_null.groupby(by='manager').count().sort_values(by='Date',ascending=False)"
   ]
  },
  {
   "cell_type": "code",
   "execution_count": null,
   "metadata": {},
   "outputs": [],
   "source": [
    "# since michael carrick and ryan giggs were both interrim managers with less than 10 games played, i'll remove them from the analysis\n",
    "manager_df = data_no_null.copy()\n",
    "manager_df = manager_df.drop(manager_df[(manager_df.manager == 'Michael Carrick') | (manager_df.manager == 'Ryan Giggs')].index)\n",
    "manager_df['manager'].unique()"
   ]
  },
  {
   "cell_type": "markdown",
   "metadata": {},
   "source": [
    "## Preprocessing"
   ]
  },
  {
   "cell_type": "code",
   "execution_count": null,
   "metadata": {},
   "outputs": [],
   "source": [
    "# creating the home and away columns\n",
    "manager_df[['home','away']] = manager_df['Match'].str.split(pat = ' v ', n = 1, expand = True)\n",
    "\n",
    "manager_df.head()"
   ]
  },
  {
   "cell_type": "code",
   "execution_count": null,
   "metadata": {},
   "outputs": [],
   "source": [
    "# home and away goals\n",
    "def split_scores(score):\n",
    "    home_score = int(score[0])\n",
    "    away_score = int(score[2])\n",
    "    \n",
    "    return home_score, away_score\n",
    "                \n",
    "manager_df[['home_score','away_score']] = manager_df['Score'].apply(split_scores).apply(pd.Series)\n",
    "\n",
    "manager_df.head()"
   ]
  },
  {
   "cell_type": "code",
   "execution_count": null,
   "metadata": {},
   "outputs": [],
   "source": [
    "# goal difference calculator\n",
    "def goal_difference(row: pd.Series, team: str):\n",
    "    g_diff = 0\n",
    "    if row['home'] == team:\n",
    "        g_diff = row['home_score'] - row['away_score']\n",
    "    else:\n",
    "        g_diff = row['away_score'] - row['home_score']\n",
    "    \n",
    "    return g_diff\n",
    "\n",
    "manager_df['goal_difference'] = manager_df.apply(goal_difference,team='Manchester United',axis=1)\n",
    "manager_df.head()"
   ]
  },
  {
   "cell_type": "markdown",
   "metadata": {},
   "source": [
    "# Erik Ten Hag "
   ]
  },
  {
   "cell_type": "markdown",
   "metadata": {},
   "source": [
    "## Overview of his tenure"
   ]
  },
  {
   "cell_type": "code",
   "execution_count": null,
   "metadata": {},
   "outputs": [],
   "source": [
    "eth = manager_df[manager_df['manager'] == 'Erik ten Hag']\n",
    "eth.reset_index(drop=True,inplace=True)\n",
    "eth.head()"
   ]
  },
  {
   "cell_type": "markdown",
   "metadata": {},
   "source": [
    "### Number of games played by competition"
   ]
  },
  {
   "cell_type": "code",
   "execution_count": null,
   "metadata": {},
   "outputs": [],
   "source": [
    "# number of games played by competition\n",
    "eth.groupby(by='Competition').count()['Date'] \n",
    "\n",
    "print(eth.groupby(by='Competition').count()['Date'])\n",
    "\n",
    "print('\\nTotal games played: '+str(eth.shape[0]))"
   ]
  },
  {
   "cell_type": "code",
   "execution_count": null,
   "metadata": {},
   "outputs": [],
   "source": [
    "# overall win rate across all competitions\n",
    "def create_win_rate_df(df: pd.DataFrame):\n",
    "    win_rate_df = df.groupby(by='Result').count()['Date'].reset_index()\n",
    "    win_rate_df.sort_values(by='Result',ascending=False,inplace=True)\n",
    "    win_rate_df.columns = ['Result','num_results']\n",
    "    win_rate_df['ratio'] = win_rate_df['num_results'] / win_rate_df['num_results'].sum() * 100\n",
    "    return win_rate_df\n",
    "\n",
    "eth_win_rate = create_win_rate_df(eth)\n",
    "eth_win_rate"
   ]
  },
  {
   "cell_type": "code",
   "execution_count": null,
   "metadata": {},
   "outputs": [],
   "source": [
    "# overall win rate vizualization\n",
    "plt.pie(eth_win_rate['ratio'],\n",
    "        autopct='%1.1f%%',\n",
    "        pctdistance=0.85,\n",
    "        colors = ['#26d300','#c60b0b','#cac417'])\n",
    "plt.legend(eth_win_rate['Result'], loc = \"upper right\") \n",
    "# draw circle\n",
    "centre_circle = plt.Circle((0, 0), 0.70, fc='white')\n",
    "fig = plt.gcf()\n",
    " \n",
    "# Adding Circle in Pie chart\n",
    "fig.gca().add_artist(centre_circle)\n",
    " \n",
    "# Adding Title of chart\n",
    "plt.title('Overall Win rate for Erik Ten Hag')\n",
    " \n",
    "# Displaying Chart\n",
    "plt.show()"
   ]
  },
  {
   "cell_type": "code",
   "execution_count": null,
   "metadata": {},
   "outputs": [],
   "source": [
    "# win ratio by competition\n",
    "\n",
    "# Calculate the total number of matches for each competition\n",
    "eth_by_competition = eth.groupby(['Competition','Result']).count().reset_index()\n",
    "eth_by_competition = eth_by_competition[['Competition','Result','Date']]\n",
    "eth_by_competition.rename(columns={'Date':'result_count'},inplace=True)\n",
    "# total matches played by competition\n",
    "eth_by_competition['matches_played'] = eth_by_competition.groupby('Competition')['result_count'].transform('sum')\n",
    "# ratio df\n",
    "eth_by_competition['result_ratio'] = eth_by_competition['result_count'] / eth_by_competition['matches_played'] * 100\n",
    "\n",
    "\n",
    "eth_by_competition.sort_values(by=['Competition','Result'],ascending = False,inplace=True)\n",
    " \n",
    "eth_by_competition"
   ]
  },
  {
   "cell_type": "code",
   "execution_count": null,
   "metadata": {},
   "outputs": [],
   "source": [
    "fig, ax = plt.subplots(figsize = (12,8))\n",
    "\n",
    "\n",
    "sns.barplot(data = eth_by_competition[['Competition','Result','result_ratio']],\n",
    "            x = 'Competition',\n",
    "            y = 'result_ratio',\n",
    "            hue = 'Result',\n",
    "            palette = ['green','red','orange'])\n",
    "\n",
    "ax.set_xlabel('Competition')\n",
    "ax.set_ylabel('Result Ratio')\n",
    "ax.set_title('Erik ten Hag Win Ratio by Competition')\n",
    "plt.show()"
   ]
  },
  {
   "cell_type": "markdown",
   "metadata": {},
   "source": [
    "### Biggest win and biggest loss"
   ]
  },
  {
   "cell_type": "code",
   "execution_count": null,
   "metadata": {},
   "outputs": [],
   "source": [
    "biggest_win = eth[eth['goal_difference'] == eth['goal_difference'].max()]\n",
    "biggest_loss = eth[eth['goal_difference'] == eth['goal_difference'].min()]"
   ]
  },
  {
   "cell_type": "code",
   "execution_count": null,
   "metadata": {},
   "outputs": [],
   "source": [
    "biggest_win"
   ]
  },
  {
   "cell_type": "code",
   "execution_count": null,
   "metadata": {},
   "outputs": [],
   "source": [
    "biggest_loss"
   ]
  },
  {
   "cell_type": "markdown",
   "metadata": {},
   "source": [
    "### Goal Difference"
   ]
  },
  {
   "cell_type": "code",
   "execution_count": null,
   "metadata": {},
   "outputs": [],
   "source": [
    "def goal_diff(df: pd.DataFrame, team: str):\n",
    "    goals_for = 0\n",
    "    goals_against = 0\n",
    "    n_games = df.shape[0]\n",
    "\n",
    "    for idx in df.index:\n",
    "        if df['home'].iloc[idx] == team:\n",
    "            goals_for += df['home_score'].iloc[idx]\n",
    "            goals_against += df['away_score'].iloc[idx]\n",
    "        else:\n",
    "            goals_for += df['away_score'].iloc[idx]\n",
    "            goals_against += df['home_score'].iloc[idx]\n",
    "    \n",
    "    return goals_for, goals_against\n",
    "\n",
    "n_games = eth.shape[0]\n",
    "goals_for, goals_against = goal_diff(eth,'Manchester United')\n",
    "\n",
    "print('goals in favour: ' + str(goals_for))\n",
    "print('\\ngoals against: ' + str(goals_against))\n",
    "\n",
    "print('\\ngoals in favour per match: ' + str(goals_for / n_games))\n",
    "print('\\ngoals against: ' + str(goals_against / n_games))"
   ]
  },
  {
   "cell_type": "code",
   "execution_count": null,
   "metadata": {},
   "outputs": [],
   "source": [
    "print('average goal difference: '+ str(eth['goal_difference'].mean()))"
   ]
  },
  {
   "cell_type": "markdown",
   "metadata": {},
   "source": [
    "## vs the big 6"
   ]
  },
  {
   "cell_type": "code",
   "execution_count": null,
   "metadata": {},
   "outputs": [],
   "source": [
    "big6 = 'Manchester City,Liverpool,Arsenal,Tottenham,Chelsea'.split(',')\n",
    "\n",
    "eth_big6 = eth[(eth['home'].isin(big6)) | (eth['away'].isin(big6))]"
   ]
  },
  {
   "cell_type": "code",
   "execution_count": null,
   "metadata": {},
   "outputs": [],
   "source": [
    "fig, ax = plt.subplots()\n",
    "\n",
    "((eth_big6['Result'].value_counts() / len(eth_big6['Result']))*100).plot.pie(autopct = \"%.2f%%\", \n",
    "                                                                             colors=['red','green','orange'])\n",
    "\n",
    "\n",
    "ax.set_title('Win percentage vs the Big 6')\n",
    "plt.show()"
   ]
  },
  {
   "cell_type": "markdown",
   "metadata": {},
   "source": [
    "## Initial thoughts \n",
    "\n",
    "Erik ten Hag has managed 2 seasons at Manchester United (as of 04-aug-2024). In this tenure, he has played 114 official matches. Out of these 114 matches, he has won 60%, lost 27% and drew 13%. The team has best played both in the FA cup and the Carabao Cup where he was won more than 80% of the matches played in these tournaments and winning the Carabao in his first season and the FA in his second. The worst performance came in the champions league where he lost the majority of the matches leaving with a humiliating 4th place finish in the group stages.\n",
    "\n",
    "\n",
    "The biggest win has came with a goal difference of +3 with various 3-0 and 4-1 across many competitions, and his biggest loss came against Liverpool which he lost 7-0. \n",
    "\n",
    "Against the big 6 he as a win ratio of 37%, drew 16% of the times and lost 47% of the matches played.\n",
    "\n",
    "Overall, in my opinion, ten Hag has shown a positive start to his tenure reaching 3 cup finals and 2 trophies in 2 years. Furthermore, he has an overall positive win ratio in the majority of the competitions he has played at (champions league being the only negative win record). \n",
    "\n",
    "However, the team has shown a lot of inconsistencies and being extremely defensively fragile with an average of 1.29 goals conceded per game (148 in total). In his defense, ETH has had a lot of external factors playing against him (INEOS takeover, the Mason Greenwood scandal, Jadon Sancho badmouthing him in social media, Cristiano Ronaldo departure and the historically injury riddled season that was 2023-2024). The positives have been really positive, but the negatives have also been extremely detrimental."
   ]
  },
  {
   "cell_type": "markdown",
   "metadata": {},
   "source": [
    "## ETH vs Other Manchester United Managers"
   ]
  },
  {
   "cell_type": "code",
   "execution_count": null,
   "metadata": {},
   "outputs": [],
   "source": [
    "def calculate_win_ratio_by_manager(df: pd.DataFrame):\n",
    "    final_df = df.groupby(by=['manager','Result']).count().reset_index()[['manager','Result','Date']]\n",
    "    # games played for each manager\n",
    "    games_played = final_df.groupby(by='manager')['Date'].agg('sum')\n",
    "    \n",
    "    final_df = final_df.merge(games_played,left_on='manager',right_index=True)\n",
    "    final_df.rename(columns={'Date_x':'count','Date_y':'total_games_played'},inplace=True)\n",
    "    # W, L, D ratio\n",
    "    final_df['ratio'] = final_df['count'] / final_df['total_games_played']\n",
    "    \n",
    "    \n",
    "    return final_df\n",
    "\n",
    "man_utd_manager_result_df = calculate_win_ratio_by_manager(manager_df)\n",
    "man_utd_manager_result_df.head()"
   ]
  },
  {
   "cell_type": "code",
   "execution_count": null,
   "metadata": {},
   "outputs": [],
   "source": [
    "fig, ax = plt.subplots(1,3,sharey=True,figsize=(12,6))\n",
    "\n",
    "sns.barplot(data=man_utd_manager_result_df[man_utd_manager_result_df['Result'] == 'W'],\n",
    "           x='Result',\n",
    "           y='ratio',\n",
    "           hue='manager',\n",
    "           ax=ax[0])\n",
    "sns.barplot(data=man_utd_manager_result_df[man_utd_manager_result_df['Result'] == 'L'],\n",
    "           x='Result',\n",
    "           y='ratio',\n",
    "           hue='manager',\n",
    "           ax=ax[1])\n",
    "sns.barplot(data=man_utd_manager_result_df[man_utd_manager_result_df['Result'] == 'D'],\n",
    "           x='Result',\n",
    "           y='ratio',\n",
    "           hue='manager',\n",
    "           ax=ax[2])    \n",
    "    \n",
    "# Remove individual legends\n",
    "ax[0].get_legend().remove()\n",
    "ax[1].get_legend().remove()\n",
    "ax[2].get_legend().remove()\n",
    "\n",
    "# Add a unified legend\n",
    "handles, labels = ax[0].get_legend_handles_labels()\n",
    "fig.legend(handles, labels, loc='upper right')\n",
    "\n",
    "fig = plt.gcf()\n",
    "fig.suptitle(\"Win, Loss, Draw Ratio for Man Utd Managers\", fontsize=14)\n",
    "\n",
    "plt.show()"
   ]
  },
  {
   "cell_type": "code",
   "execution_count": null,
   "metadata": {},
   "outputs": [],
   "source": [
    "goal_diff_by_manager = pd.DataFrame(columns=['manager','goals_for','goals_against'])\n",
    "\n",
    "for manager in manager_df['manager'].unique():\n",
    "    goals_for, goals_against = goal_diff(manager_df[manager_df['manager'] == manager].reset_index(),'Manchester United') \n",
    "    goal_diff_by_manager.loc[len(goal_diff_by_manager)] = [manager,goals_for,goals_against]\n",
    "    \n",
    "goal_diff_by_manager = goal_diff_by_manager.merge(right = manager_df.groupby(by='manager').count()['Date'],\n",
    "                                                                  left_on='manager',\n",
    "                                                                  right_index=True)\n",
    "\n",
    "goal_diff_by_manager.rename(columns={'Date':'total_games_played'},inplace=True)\n",
    "goal_diff_by_manager['goal_difference'] = goal_diff_by_manager['goals_for'] -  goal_diff_by_manager['goals_against']\n",
    "goal_diff_by_manager['goal_difference_per_match'] = goal_diff_by_manager['goal_difference'] / goal_diff_by_manager['total_games_played']\n",
    "\n",
    "goal_diff_by_manager['goals_for_per_match'] = goal_diff_by_manager['goals_for'] / goal_diff_by_manager['total_games_played']\n",
    "goal_diff_by_manager['goals_against_per_match'] = goal_diff_by_manager['goals_against'] / goal_diff_by_manager['total_games_played']\n",
    "goal_diff_by_manager"
   ]
  },
  {
   "cell_type": "code",
   "execution_count": null,
   "metadata": {},
   "outputs": [],
   "source": [
    "fig, ax = plt.subplots(1,2,sharey=True,figsize=(12,6))\n",
    "\n",
    "sns.barplot(data=goal_diff_by_manager,x='manager',y='goals_for_per_match',ax=ax[0],hue='manager',legend=False)\n",
    "sns.barplot(data=goal_diff_by_manager,x='manager',y='goals_against_per_match',ax=ax[1],hue='manager',legend=False)\n",
    "\n",
    "ax[0].set_xticklabels(labels, rotation=70)\n",
    "ax[0].set_title('Goals in Favour')\n",
    "\n",
    "ax[1].set_xticklabels(labels, rotation=70)\n",
    "ax[1].set_title('Goals Against')\n",
    "\n",
    "ax[0].set_ylabel('Goals per match')\n",
    "\n",
    "\n",
    "plt.show()"
   ]
  },
  {
   "cell_type": "code",
   "execution_count": null,
   "metadata": {},
   "outputs": [],
   "source": [
    "sns.barplot(data=goal_diff_by_manager.sort_values(by='manager'),x='manager',y='goal_difference_per_match',hue='manager',legend=False)\n",
    "plt.ylabel('Goals Difference by Match')\n",
    "plt.xlabel('Manager')\n",
    "plt.title('Goal Difference Per Match For Each Manager')\n",
    "\n",
    "plt.xticks(rotation=70)\n",
    "plt.show()"
   ]
  },
  {
   "cell_type": "markdown",
   "metadata": {},
   "source": [
    "## Comparison to Pep Guardiola, Jurgen Klopp and Mikel Arteta"
   ]
  },
  {
   "cell_type": "markdown",
   "metadata": {},
   "source": [
    "### Importing data for each manager"
   ]
  },
  {
   "cell_type": "code",
   "execution_count": null,
   "metadata": {},
   "outputs": [],
   "source": [
    "pep_df = get_data([2017,2018],'manchester-city')\n",
    "pep_df['manager'] = 'Pep Guardiola'\n",
    "\n",
    "pep_df[['home_score','away_score']] = pep_df['Score'].apply(split_scores).apply(pd.Series)\n",
    "pep_df[['home','away']] = pep_df['Match'].str.split(pat = ' v ', n = 1, expand = True)\n",
    "\n",
    "pep_df.head()"
   ]
  },
  {
   "cell_type": "code",
   "execution_count": null,
   "metadata": {},
   "outputs": [],
   "source": [
    "klopp_df = get_data([2016,2017],'liverpool')\n",
    "klopp_df['manager'] = 'Jurgen Klopp'\n",
    "klopp_df[['home_score','away_score']] = klopp_df['Score'].apply(split_scores).apply(pd.Series)\n",
    "klopp_df[['home','away']] = klopp_df['Match'].str.split(pat = ' v ', n = 1, expand = True)\n",
    "\n",
    "klopp_df.head()"
   ]
  },
  {
   "cell_type": "code",
   "execution_count": null,
   "metadata": {},
   "outputs": [],
   "source": [
    "arteta_df = get_data([2020,2021],'arsenal')\n",
    "arteta_df['manager'] = 'Mikel Arteta'\n",
    "arteta_df[['home_score','away_score']] = arteta_df['Score'].apply(split_scores).apply(pd.Series)\n",
    "arteta_df[['home','away']] = arteta_df['Match'].str.split(pat = ' v ', n = 1, expand = True)\n",
    "\n",
    "arteta_df.head()"
   ]
  },
  {
   "cell_type": "markdown",
   "metadata": {},
   "source": [
    "### Win rate comparison"
   ]
  },
  {
   "cell_type": "code",
   "execution_count": null,
   "metadata": {},
   "outputs": [],
   "source": [
    "pep_win_rate = create_win_rate_df(pep_df)\n",
    "\n",
    "klopp_win_rate = create_win_rate_df(klopp_df)\n",
    "\n",
    "arteta_win_rate = create_win_rate_df(arteta_df)"
   ]
  },
  {
   "cell_type": "code",
   "execution_count": null,
   "metadata": {},
   "outputs": [],
   "source": [
    "fig, ax = plt.subplots(2,2,figsize=(10,10))\n",
    "\n",
    "ax[0][0].pie(eth_win_rate['ratio'],\n",
    "        autopct='%1.1f%%',\n",
    "        pctdistance=0.85,\n",
    "        colors = ['#26d300','#c60b0b','#cac417'])\n",
    "ax[0][0].set_title('Erik ten Hag')\n",
    "\n",
    "ax[0][1].pie(pep_win_rate['ratio'],\n",
    "        autopct='%1.1f%%',\n",
    "        pctdistance=0.85,\n",
    "        colors = ['#26d300','#c60b0b','#cac417'])\n",
    "ax[0][1].set_title('Pep Guardiola')\n",
    "ax[0][1].legend(eth_win_rate['Result'], loc = \"upper right\")\n",
    "\n",
    "ax[1][0].pie(klopp_win_rate['ratio'],\n",
    "        autopct='%1.1f%%',\n",
    "        pctdistance=0.85,\n",
    "        colors = ['#26d300','#c60b0b','#cac417'])\n",
    "ax[1][0].set_title('Jurgen Klopp')\n",
    "\n",
    "\n",
    "ax[1][1].pie(arteta_win_rate['ratio'],\n",
    "        autopct='%1.1f%%',\n",
    "        pctdistance=0.85,\n",
    "        colors = ['#26d300','#c60b0b','#cac417'])\n",
    "ax[1][1].set_title('Mikel Arteta') \n",
    "\n",
    "plt.show()"
   ]
  },
  {
   "cell_type": "markdown",
   "metadata": {},
   "source": [
    "### Goal Difference Comparison"
   ]
  },
  {
   "cell_type": "code",
   "execution_count": null,
   "metadata": {},
   "outputs": [],
   "source": [
    "goal_diff_rivals = pd.DataFrame(columns=['manager','goals_for','goals_against','total_games_played'])\n",
    "teams = ['Manchester United','Manchester City','Liverpool','Arsenal']\n",
    "\n",
    "for i, df in enumerate([eth, pep_df, klopp_df, arteta_df]):\n",
    "    manager = df['manager'].iloc[0]\n",
    "    team = teams[i]\n",
    "    total_games_played = df.shape[0]\n",
    "    goals_for, goals_against = goal_diff(df,team) \n",
    "    goal_diff_rivals.loc[len(goal_diff_rivals)] = [manager,goals_for,goals_against,total_games_played]\n",
    "\n",
    "goal_diff_rivals.rename(columns={'Date':'total_games_played'},inplace=True)\n",
    "goal_diff_rivals['goal_difference'] = goal_diff_rivals['goals_for'] -  goal_diff_rivals['goals_against']\n",
    "goal_diff_rivals['goal_difference_per_match'] = goal_diff_rivals['goal_difference'] / goal_diff_rivals['total_games_played']\n",
    "\n",
    "goal_diff_rivals['goals_for_per_match'] = goal_diff_rivals['goals_for'] / goal_diff_rivals['total_games_played']\n",
    "goal_diff_rivals['goals_against_per_match'] = goal_diff_rivals['goals_against'] / goal_diff_rivals['total_games_played']\n",
    "goal_diff_rivals"
   ]
  },
  {
   "cell_type": "code",
   "execution_count": null,
   "metadata": {},
   "outputs": [],
   "source": [
    "fig, ax = plt.subplots(1,2,sharey=True,figsize=(12,6))\n",
    "\n",
    "sns.barplot(data=goal_diff_rivals,x='manager',y='goals_for_per_match',ax=ax[0],hue='manager',legend=False)\n",
    "sns.barplot(data=goal_diff_rivals,x='manager',y='goals_against_per_match',ax=ax[1],hue='manager',legend=False)\n",
    "\n",
    "\n",
    "ax[0].set_title('Goals in Favour')\n",
    "\n",
    "ax[1].set_title('Goals Against')\n",
    "\n",
    "ax[0].set_ylabel('Goals per match')\n",
    "plt.show()"
   ]
  },
  {
   "cell_type": "code",
   "execution_count": null,
   "metadata": {},
   "outputs": [],
   "source": [
    "sns.barplot(data=goal_diff_rivals.sort_values(by='manager'),x='manager',y='goal_difference_per_match',hue='manager',legend=False)\n",
    "plt.ylabel('Goals Difference by Match')\n",
    "plt.xlabel('Manager')\n",
    "plt.title('Goal Difference Per Match For Each Manager')\n",
    "\n",
    "plt.xticks(rotation=70)\n",
    "plt.show()"
   ]
  },
  {
   "cell_type": "markdown",
   "metadata": {},
   "source": [
    "# Final Thoughts"
   ]
  },
  {
   "cell_type": "markdown",
   "metadata": {},
   "source": [
    "Over his 2 years at Manchester United, Erik ten Hag has shown a lot of positive aspects but also some negative aspects. He inherited a demoralized, disjointed and dysfunctional team and transformed into a winning team that has reached 3 cup finals in 2 seasons and won 2 major trophies. He holds an overall winning ratio of 59.6% and a +0.4 goal difference per match ratio. The positives have been rejuvenating to see, with a better winning record since all of his predecessors excluding the iconic Sir Alex Ferguson. Comparing his first 2 seasons with the rival clubs (Man City, Liverpool, and Arsenal) Erik ten Hag has a better win ratio than Jurgen Klopp and Mikel Arteta.\n",
    "\n",
    "However, his tenure has also come with some backfire. His loss ratio, sitting at 27.2% is the 2nd worst loss ratio of all Manchester United managers, and the worst out of Guardiola, Arteta and Klopp. These defensive fragilities are even more exposed with his goals conceded per match being greater than 1. His goal difference per match is the lowest out of all the managers analyzed, and this needs to be urgently fixed if ten Hag wants to compete for the premier league.\n",
    "\n",
    "\n",
    "To summarize, ten Hag has shown a very bright 2 first seasons but these seasons have also come with a lot of inconsistency and variability. In his defense, there were multiple external factors such as the 45 injuries suffered in the 2023-2024 season, the Mason Greenwood resolution scandal, the Jadon Sancho social media backlash, Cristano Ronaldo explosive interview with Piers Morgan, that played against him. But, despite all these adversities, he has managed to end Man Utd's 6 year trophy drought, kept a positive winning record and started a project focused on growing youth talent. His biggest Achilles heel is the inconsistency and defensive fragility. Erik ten Hag's Manchester United is by far the worst team when it comes to goals conceded and his lose ratio is severely high. If he is to bring this club back to its former glory, a defensive stronghold and consistent style of play must be his number 1 priority.\n",
    "\n",
    "Finally, to answer the question, is Erik ten Hag the right man for the job? In my opinion, yes. However, it must be stated that the path to greatness is not quick, simple or easy. This will be a long process with a lot of restructuring, trial and errors before seeing success. But, in these 2 seasons, it has made a long Manchester United fan look to the future with hope and excitement that we will be competing for the premier league in the years to come."
   ]
  },
  {
   "cell_type": "markdown",
   "metadata": {},
   "source": [
    "# Bibliography"
   ]
  },
  {
   "cell_type": "markdown",
   "metadata": {},
   "source": [
    "\n",
    "[1]\n",
    "Sky Sports, “Erik ten Hag: Manchester United appoint Ajax boss as new manager,” Sky Sports, Apr. 22, 2022. https://www.skysports.com/football/news/11667/12582098/erik-ten-hag-manchester-united-appoint-ajax-boss-as-new-manager\n",
    "\n",
    "[2]\n",
    "O. Garrick and A. Rampling, “Ratcliffe and INEOS’ minority stake in Man Utd confirmed,” The New York Times, Feb. 20, 2024. Accessed: Aug. 12, 2024. [Online]. Available: https://www.nytimes.com/athletic/5221120/2024/02/20/manchester-united-takeover-jim-ratcliffe/\n",
    "\n",
    "[3]\n",
    "M. Critchley, D. Sheldon, and more, “Inside Jadon Sancho’s exile and exit: What went wrong for him at Manchester United,” The New York Times, Jan. 11, 2024. Accessed: Aug. 12, 2024. [Online]. Available: https://www.nytimes.com/athletic/5181214/2024/01/11/inside-jadon-sanchos-exile-and-exit-what-went-wrong-for-him-at-manchester-united/\n",
    "\n",
    "[4]\n",
    "D. McDonnell and T. Blow, “Inside Sancho’s Man Utd exile as star prevented from mingling with team-mates,” The Mirror, Sep. 28, 2023. https://www.mirror.co.uk/sport/football/news/man-utd-sancho-ten-hag-31043622 (accessed Aug. 12, 2024).\n",
    "\n",
    "[5]\n",
    "S. Walsh, “Erik ten Hag lined up for sensational Ajax return - report,” 90min.com, Apr. 26, 2024. https://www.90min.com/erik-ten-hag-lined-up-sensational-ajax-return (accessed Aug. 12, 2024).\n",
    "\n",
    "[6]\n",
    "B. Cox, “Will Erik ten Hag be fired by Manchester United? Possible replacements, favourites if Red Devils sack manager,” Sportingnews.com, May 06, 2024. https://www.sportingnews.com/in/premier-league/news/erik-ten-hag-replacements-manchester-united-manager/f2f750000968120c0801e983 (accessed Aug. 12, 2024).\n",
    "\n",
    "[7]\n",
    "A. Mishra, “‘Destroyed Cristiano Ronaldo’s Time at Manchester United’- Erik ten Hag Slammed For ‘Clueless’ Attitude Towards Top Players,” EssentiallySports, Apr. 28, 2024. https://www.essentiallysports.com/soccer-football-news-destroyed-cristiano-ronaldo-time-at-manchester-united-erik-ten-hag-slammed-for-clueless-attitude-towards-top-players-piers-morgan/ (accessed Aug. 12, 2024).\n",
    "\n",
    "[8]\n",
    "ESPN, “Man United 2-0 Newcastle (26 Feb, 2023) Final Score - ESPN (UK),” ESPN, 2023. https://www.espn.co.uk/football/match/_/gameId/664857/newcastle-united-manchester-united (accessed Aug. 12, 2024).\n",
    "\n",
    "[9]\n",
    "The Football Association, “United win Emirates FA Cup,” www.thefa.com, 2023. https://www.thefa.com/news/2024/may/25/manchester-united-manchester-city-fa-cup-final-20240525 (accessed Aug. 12, 2024).\n",
    "\n",
    "[10]\n",
    "ESPN, “Man City 2-1 Man United (3 Jun, 2023) Final Score - ESPN (UK),” ESPN, Oct. 11, 2023. https://www.espn.co.uk/football/match/_/gameId/668583/manchester-united-manchester-city\n",
    "\n",
    "[11]S. Saket, “‘One Year Ago Today’- Cristiano Ronaldo’s Bombshell Interview Before 2022 World Cup Reminded to the Fans by Piers Morgan,” EssentiallySports, Nov. 11, 2023. https://www.essentiallysports.com/soccer-football-news-one-year-ago-today-cristiano-ronaldo-bombshell-interview-before-world-cup-reminded-to-the-fans-by-piers-morgan/ (accessed Aug. 12, 2024)."
   ]
  },
  {
   "cell_type": "markdown",
   "metadata": {},
   "source": []
  }
 ],
 "metadata": {
  "kernelspec": {
   "display_name": "Python 3 (ipykernel)",
   "language": "python",
   "name": "python3"
  },
  "language_info": {
   "codemirror_mode": {
    "name": "ipython",
    "version": 3
   },
   "file_extension": ".py",
   "mimetype": "text/x-python",
   "name": "python",
   "nbconvert_exporter": "python",
   "pygments_lexer": "ipython3",
   "version": "3.9.19"
  }
 },
 "nbformat": 4,
 "nbformat_minor": 2
}
