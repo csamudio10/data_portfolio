{
 "cells": [
  {
   "cell_type": "code",
   "execution_count": 1,
   "metadata": {},
   "outputs": [],
   "source": [
    "import pandas as pd\n",
    "from get_data import get_data\n",
    "import matplotlib.pyplot as plt\n",
    "import seaborn as sns"
   ]
  },
  {
   "cell_type": "code",
   "execution_count": 2,
   "metadata": {},
   "outputs": [
    {
     "name": "stderr",
     "output_type": "stream",
     "text": [
      "c:\\Users\\USER\\Downloads\\data science proyects\\man_utd_record\\get_data.py:73: SettingWithCopyWarning: \n",
      "A value is trying to be set on a copy of a slice from a DataFrame\n",
      "\n",
      "See the caveats in the documentation: https://pandas.pydata.org/pandas-docs/stable/user_guide/indexing.html#returning-a-view-versus-a-copy\n",
      "  manager_df['end_date'].iloc[i] = datetime.today()\n",
      "c:\\Users\\USER\\Downloads\\data science proyects\\man_utd_record\\get_data.py:75: SettingWithCopyWarning: \n",
      "A value is trying to be set on a copy of a slice from a DataFrame\n",
      "\n",
      "See the caveats in the documentation: https://pandas.pydata.org/pandas-docs/stable/user_guide/indexing.html#returning-a-view-versus-a-copy\n",
      "  manager_df['end_date'].iloc[i] = pd.to_datetime(manager_df['end_date'].iloc[i])\n"
     ]
    },
    {
     "data": {
      "text/html": [
       "<div>\n",
       "<style scoped>\n",
       "    .dataframe tbody tr th:only-of-type {\n",
       "        vertical-align: middle;\n",
       "    }\n",
       "\n",
       "    .dataframe tbody tr th {\n",
       "        vertical-align: top;\n",
       "    }\n",
       "\n",
       "    .dataframe thead th {\n",
       "        text-align: right;\n",
       "    }\n",
       "</style>\n",
       "<table border=\"1\" class=\"dataframe\">\n",
       "  <thead>\n",
       "    <tr style=\"text-align: right;\">\n",
       "      <th></th>\n",
       "      <th>Date</th>\n",
       "      <th>Match</th>\n",
       "      <th>Result</th>\n",
       "      <th>Score</th>\n",
       "      <th>Competition</th>\n",
       "      <th>manager</th>\n",
       "    </tr>\n",
       "  </thead>\n",
       "  <tbody>\n",
       "    <tr>\n",
       "      <th>0</th>\n",
       "      <td>1986-08-23</td>\n",
       "      <td>Arsenal v Manchester United</td>\n",
       "      <td>L</td>\n",
       "      <td>1-0</td>\n",
       "      <td>League Division One</td>\n",
       "      <td>None</td>\n",
       "    </tr>\n",
       "    <tr>\n",
       "      <th>1</th>\n",
       "      <td>1986-08-25</td>\n",
       "      <td>Manchester United v West Ham United</td>\n",
       "      <td>L</td>\n",
       "      <td>2-3</td>\n",
       "      <td>League Division One</td>\n",
       "      <td>None</td>\n",
       "    </tr>\n",
       "    <tr>\n",
       "      <th>2</th>\n",
       "      <td>1986-08-30</td>\n",
       "      <td>Manchester United v Charlton Athletic</td>\n",
       "      <td>L</td>\n",
       "      <td>0-1</td>\n",
       "      <td>League Division One</td>\n",
       "      <td>None</td>\n",
       "    </tr>\n",
       "    <tr>\n",
       "      <th>3</th>\n",
       "      <td>1986-09-06</td>\n",
       "      <td>Leicester City v Manchester United</td>\n",
       "      <td>D</td>\n",
       "      <td>1-1</td>\n",
       "      <td>League Division One</td>\n",
       "      <td>None</td>\n",
       "    </tr>\n",
       "    <tr>\n",
       "      <th>4</th>\n",
       "      <td>1986-09-13</td>\n",
       "      <td>Manchester United v Southampton</td>\n",
       "      <td>W</td>\n",
       "      <td>5-1</td>\n",
       "      <td>League Division One</td>\n",
       "      <td>None</td>\n",
       "    </tr>\n",
       "  </tbody>\n",
       "</table>\n",
       "</div>"
      ],
      "text/plain": [
       "        Date                                  Match Result Score  \\\n",
       "0 1986-08-23            Arsenal v Manchester United      L   1-0   \n",
       "1 1986-08-25    Manchester United v West Ham United      L   2-3   \n",
       "2 1986-08-30  Manchester United v Charlton Athletic      L   0-1   \n",
       "3 1986-09-06     Leicester City v Manchester United      D   1-1   \n",
       "4 1986-09-13        Manchester United v Southampton      W   5-1   \n",
       "\n",
       "           Competition manager  \n",
       "0  League Division One    None  \n",
       "1  League Division One    None  \n",
       "2  League Division One    None  \n",
       "3  League Division One    None  \n",
       "4  League Division One    None  "
      ]
     },
     "execution_count": 2,
     "metadata": {},
     "output_type": "execute_result"
    }
   ],
   "source": [
    "seasons = [i for i in range(1987,2024)]\n",
    "\n",
    "df = get_data(seasons)\n",
    "\n",
    "\n",
    "df.head()"
   ]
  },
  {
   "cell_type": "code",
   "execution_count": 3,
   "metadata": {},
   "outputs": [
    {
     "name": "stdout",
     "output_type": "stream",
     "text": [
      "<class 'pandas.core.frame.DataFrame'>\n",
      "Int64Index: 2081 entries, 0 to 61\n",
      "Data columns (total 6 columns):\n",
      " #   Column       Non-Null Count  Dtype         \n",
      "---  ------       --------------  -----         \n",
      " 0   Date         2081 non-null   datetime64[ns]\n",
      " 1   Match        2081 non-null   object        \n",
      " 2   Result       2081 non-null   object        \n",
      " 3   Score        2081 non-null   object        \n",
      " 4   Competition  2081 non-null   object        \n",
      " 5   manager      2064 non-null   object        \n",
      "dtypes: datetime64[ns](1), object(5)\n",
      "memory usage: 113.8+ KB\n"
     ]
    }
   ],
   "source": [
    "df.info()"
   ]
  },
  {
   "cell_type": "code",
   "execution_count": 4,
   "metadata": {},
   "outputs": [
    {
     "data": {
      "text/plain": [
       "array([None, 'Alex Ferguson', 'David Moyes', 'Louis van Gaal',\n",
       "       'Jose Mourinho', 'Ole Gunnar Solskjaer', 'Ralf Rangnick',\n",
       "       'Erik ten Hag'], dtype=object)"
      ]
     },
     "execution_count": 4,
     "metadata": {},
     "output_type": "execute_result"
    }
   ],
   "source": [
    "# since michael carrick and ryan giggs were both interrim managers with less than 10 games played, i'll remove them from the analysis\n",
    "df1 = df.copy()\n",
    "df1 = df1.drop(df1[(df.manager == 'Michael Carrick') | (df1.manager == 'Ryan Giggs')].index)\n",
    "df1['manager'].unique()"
   ]
  },
  {
   "cell_type": "code",
   "execution_count": 5,
   "metadata": {},
   "outputs": [],
   "source": [
    "def split_by_manager(df: pd.DataFrame):\n",
    "    managers = {}\n",
    "    \n",
    "    for manager in df['manager'].unique():\n",
    "        managers[manager] = df[df['manager'] == manager]\n",
    "    \n",
    "    return managers\n",
    "\n",
    "managers = split_by_manager(df1)"
   ]
  },
  {
   "cell_type": "code",
   "execution_count": 6,
   "metadata": {},
   "outputs": [
    {
     "data": {
      "text/html": [
       "<div>\n",
       "<style scoped>\n",
       "    .dataframe tbody tr th:only-of-type {\n",
       "        vertical-align: middle;\n",
       "    }\n",
       "\n",
       "    .dataframe tbody tr th {\n",
       "        vertical-align: top;\n",
       "    }\n",
       "\n",
       "    .dataframe thead th {\n",
       "        text-align: right;\n",
       "    }\n",
       "</style>\n",
       "<table border=\"1\" class=\"dataframe\">\n",
       "  <thead>\n",
       "    <tr style=\"text-align: right;\">\n",
       "      <th></th>\n",
       "      <th>manager</th>\n",
       "      <th>result_count</th>\n",
       "      <th>index</th>\n",
       "      <th>result_percent</th>\n",
       "      <th>total_count_by_manager</th>\n",
       "    </tr>\n",
       "  </thead>\n",
       "  <tbody>\n",
       "    <tr>\n",
       "      <th>0</th>\n",
       "      <td>None</td>\n",
       "      <td>NaN</td>\n",
       "      <td>W</td>\n",
       "      <td>NaN</td>\n",
       "      <td>NaN</td>\n",
       "    </tr>\n",
       "    <tr>\n",
       "      <th>1</th>\n",
       "      <td>None</td>\n",
       "      <td>NaN</td>\n",
       "      <td>L</td>\n",
       "      <td>NaN</td>\n",
       "      <td>NaN</td>\n",
       "    </tr>\n",
       "    <tr>\n",
       "      <th>2</th>\n",
       "      <td>None</td>\n",
       "      <td>NaN</td>\n",
       "      <td>D</td>\n",
       "      <td>NaN</td>\n",
       "      <td>NaN</td>\n",
       "    </tr>\n",
       "    <tr>\n",
       "      <th>3</th>\n",
       "      <td>Alex Ferguson</td>\n",
       "      <td>817</td>\n",
       "      <td>W</td>\n",
       "      <td>60.924683</td>\n",
       "      <td>1341</td>\n",
       "    </tr>\n",
       "    <tr>\n",
       "      <th>4</th>\n",
       "      <td>Alex Ferguson</td>\n",
       "      <td>296</td>\n",
       "      <td>L</td>\n",
       "      <td>22.07308</td>\n",
       "      <td>1341</td>\n",
       "    </tr>\n",
       "  </tbody>\n",
       "</table>\n",
       "</div>"
      ],
      "text/plain": [
       "         manager result_count index result_percent total_count_by_manager\n",
       "0           None          NaN     W            NaN                    NaN\n",
       "1           None          NaN     L            NaN                    NaN\n",
       "2           None          NaN     D            NaN                    NaN\n",
       "3  Alex Ferguson          817     W      60.924683                   1341\n",
       "4  Alex Ferguson          296     L       22.07308                   1341"
      ]
     },
     "execution_count": 6,
     "metadata": {},
     "output_type": "execute_result"
    }
   ],
   "source": [
    "win_ratio_df = pd.DataFrame(columns='manager result_count'.split(\" \"))\n",
    "\n",
    "for manager in managers.keys():\n",
    "    temp_df = pd.DataFrame(data = [i for i in managers[manager]['Result'].value_counts()],\n",
    "             index = ['W', 'L', 'D'],\n",
    "             columns=['result_count'])\n",
    "    \n",
    "    temp_df['manager'] = manager\n",
    "    temp_df.reset_index(inplace=True)\n",
    "    \n",
    "    win_ratio_df = pd.concat([win_ratio_df,temp_df])\n",
    "    \n",
    "\n",
    "win_ratio_df.reset_index(drop=True,inplace=True)\n",
    "win_ratio_df.head()\n",
    "\n",
    "# Calculate total count by manager\n",
    "total_count_by_manager = win_ratio_df.groupby('manager')['result_count'].transform('sum')\n",
    "\n",
    "# Calculate result_percent\n",
    "win_ratio_df['result_percent'] = win_ratio_df['result_count'] / total_count_by_manager * 100\n",
    "win_ratio_df['total_count_by_manager'] = total_count_by_manager\n",
    "\n",
    "\n",
    "win_ratio_df.head()\n"
   ]
  },
  {
   "cell_type": "code",
   "execution_count": 7,
   "metadata": {},
   "outputs": [
    {
     "data": {
      "text/plain": [
       "<Axes: xlabel='index', ylabel='result_percent'>"
      ]
     },
     "execution_count": 7,
     "metadata": {},
     "output_type": "execute_result"
    },
    {
     "data": {
      "image/png": "[encoded data removed]",
      "text/plain": [
       "<Figure size 640x480 with 1 Axes>"
      ]
     },
     "metadata": {},
     "output_type": "display_data"
    }
   ],
   "source": [
    "sns.barplot(data=win_ratio_df,\n",
    "            x='index',\n",
    "            y='result_percent',\n",
    "            hue='manager')"
   ]
  },
  {
   "cell_type": "code",
   "execution_count": 8,
   "metadata": {},
   "outputs": [
    {
     "data": {
      "text/plain": [
       "<Axes: xlabel='total_count_by_manager', ylabel='result_percent'>"
      ]
     },
     "execution_count": 8,
     "metadata": {},
     "output_type": "execute_result"
    },
    {
     "data": {
      "image/png": "[encoded data removed]",
      "text/plain": [
       "<Figure size 640x480 with 1 Axes>"
      ]
     },
     "metadata": {},
     "output_type": "display_data"
    }
   ],
   "source": [
    "sns.scatterplot(data=win_ratio_df[win_ratio_df['index'] == 'W'],\n",
    "                x='total_count_by_manager',\n",
    "                y='result_percent',\n",
    "                hue='manager')"
   ]
  },
  {
   "cell_type": "code",
   "execution_count": null,
   "metadata": {},
   "outputs": [],
   "source": []
  },
  {
   "cell_type": "code",
   "execution_count": null,
   "metadata": {},
   "outputs": [],
   "source": []
  }
 ],
 "metadata": {
  "kernelspec": {
   "display_name": "Python 3 (ipykernel)",
   "language": "python",
   "name": "python3"
  },
  "language_info": {
   "codemirror_mode": {
    "name": "ipython",
    "version": 3
   },
   "file_extension": ".py",
   "mimetype": "text/x-python",
   "name": "python",
   "nbconvert_exporter": "python",
   "pygments_lexer": "ipython3",
   "version": "3.10.9"
  }
 },
 "nbformat": 4,
 "nbformat_minor": 2
}
